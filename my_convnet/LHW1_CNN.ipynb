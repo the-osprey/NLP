{
 "cells": [
  {
   "cell_type": "markdown",
   "metadata": {},
   "source": [
    "# LHW 1 : Convolutional Neural Networks for text classification\n"
   ]
  },
  {
   "cell_type": "markdown",
   "metadata": {},
   "source": [
    "In this homework, you will be implementing the _forward pass_, _backpropagation_, and _gradient checking_ for a convolutional neural network with sparse inputs for text classification. "
   ]
  },
  {
   "cell_type": "markdown",
   "metadata": {},
   "source": [
    "## The setup\n",
    "Let's define parameters for the Convolutional Neural Network. You do not need to modify them."
   ]
  },
  {
   "cell_type": "code",
   "execution_count": null,
   "metadata": {
    "collapsed": true
   },
   "outputs": [],
   "source": [
    "import sys\n",
    "import math\n",
    "import numpy as np\n",
    "import pickle\n",
    "\n",
    "# window size for the CNN\n",
    "width = 2\n",
    "\n",
    "# number of filters\n",
    "F = 100\n",
    "\n",
    "# learning rate\n",
    "alpha = 1e-1\n",
    "\n",
    "# vocabsize: size of the total vocabulary\n",
    "vocabsize = 10000\n",
    "\n",
    "# vocab: the vocabulary dictionary with the word as key and its index as value\n",
    "# the input will be transformed into respective positional indices using the vocab dictionary\n",
    "# as the input for the forward and backward algorithm\n",
    "# e.g. if vocab = {'a': 0, 'simple': 1, 'sentence': 2} and the training data is\n",
    "# \"a simple simple sentence a\",\n",
    "# the input to the forward and backward algorithm will be [0,1,1,2,0]\n",
    "vocab = {}\n",
    "\n",
    "np.random.seed(1)\n",
    "\n",
    "# U and V are weight vectors of the hidden layer\n",
    "# U: a matrix of weights of all inputs for the first\n",
    "# hidden layer for all F filters in the\n",
    "# where each filter has the size of vocabsize by width (window size)\n",
    "# U[i, j, k] represents the weight of filter u_j\n",
    "# for word with vocab[word] = i when the word is\n",
    "# at the position k of the sliding window\n",
    "# e.g. for the example, \"a simple simple sentence a\",\n",
    "# if the window size is 4 and we are looking at the first sliding window\n",
    "# of the 9th filter, the weight for the last \"sentence\" will be U[2, 8, 3]\n",
    "# i.e U[index of the word in vocab, index of the filter, position of the word in that sliding window]\n",
    "U = np.random.normal(loc=0, scale=0.01, size=(vocabsize, F, width))\n",
    "\n",
    "# V: the the weight vector of the F filter outputs (after max pooling)\n",
    "# that will produce the output, i.e. o = sigmoid(V*h)\n",
    "V = np.random.normal(loc=0, scale=0.01, size=(F))"
   ]
  },
  {
   "cell_type": "markdown",
   "metadata": {},
   "source": [
    "Let's define some utility functions that may be useful. You don't need to modify them."
   ]
  },
  {
   "cell_type": "code",
   "execution_count": null,
   "metadata": {
    "collapsed": true
   },
   "outputs": [],
   "source": [
    "def sigmoid(x):\n",
    "    \"\"\"\n",
    "    helper function that computes the sigmoid function\n",
    "    \"\"\"\n",
    "    return 1. / (1 + math.exp(-x))\n",
    "\n",
    "\n",
    "def read_vocab(filename):\n",
    "    \"\"\"\n",
    "    helper function that builds up the vocab dictionary for input transformation\n",
    "    \"\"\"\n",
    "    file = open(filename)\n",
    "    for line in file:\n",
    "        cols = line.rstrip().split(\"\\t\")\n",
    "        word = cols[0]\n",
    "        idd = int(cols[1])\n",
    "        vocab[word] = idd\n",
    "    file.close()\n",
    "\n",
    "\n",
    "def read_data(filename):\n",
    "    \"\"\"\n",
    "    :param filename: the name of the file\n",
    "    :return: list of tuple ([word index list], label)\n",
    "    as input for the forward and backward function\n",
    "    \"\"\"\n",
    "    data = []\n",
    "    file = open(filename)\n",
    "    for line in file:\n",
    "        cols = line.rstrip().split(\"\\t\")\n",
    "        label = int(cols[0])\n",
    "        words = cols[1].split(\" \")\n",
    "        w_int = []\n",
    "        for w in words:\n",
    "            # skip the unknown words\n",
    "            if w in vocab:\n",
    "                w_int.append(vocab[w])\n",
    "        data.append((w_int, label))\n",
    "    file.close()\n",
    "    return data\n",
    "\n",
    "\n",
    "def train():\n",
    "    \"\"\"\n",
    "    main caller function that reads in the names of the files\n",
    "    and train the CNN to classify movie reviews\n",
    "    \"\"\"\n",
    "    vocabFile = \"vocab.txt\"\n",
    "    trainingFile = \"movie_reviews.train\"\n",
    "    testFile = \"movie_reviews.dev\"\n",
    "\n",
    "    read_vocab(vocabFile)\n",
    "    training_data = read_data(trainingFile)\n",
    "    test_data = read_data(testFile)\n",
    "\n",
    "    for i in range(50):\n",
    "        # confusion matrix showing the accuracy of the algorithm\n",
    "        confusion_training = np.zeros((2, 2))\n",
    "        confusion_validation = np.zeros((2, 2))\n",
    "\n",
    "        for (data, label) in training_data:\n",
    "            # back propagation to update weights for both U and V\n",
    "            backward(data, label)\n",
    "\n",
    "            # calculate forward and evaluate\n",
    "            prob = forward(data)[\"prob\"]\n",
    "            pred = 1 if prob > .5 else 0\n",
    "            confusion_training[pred, label] += 1\n",
    "\n",
    "        for (data, label) in test_data:\n",
    "            # calculate forward and evaluate\n",
    "            prob = forward(data)[\"prob\"]\n",
    "            pred = 1 if prob > .5 else 0\n",
    "            confusion_validation[pred, label] += 1\n",
    "\n",
    "        print(\"Epoch: {}\\tTrain accuracy: {:.3f}\\tDev accuracy: {:.3f}\"\n",
    "            .format(\n",
    "            i,\n",
    "            np.sum(np.diag(confusion_training)) / np.sum(confusion_training),\n",
    "            np.sum(np.diag(confusion_validation)) / np.sum(confusion_validation)))"
   ]
  },
  {
   "cell_type": "markdown",
   "metadata": {},
   "source": [
    "## 1. Forward\n",
    "\n",
    "Given the parameters and definition of the CNN model (§2 of HW), complete the Forward Function to calculate _o_ (the probability of the positive class) for an input text. You may not import any additional libraries. "
   ]
  },
  {
   "cell_type": "code",
   "execution_count": null,
   "metadata": {
    "collapsed": true
   },
   "outputs": [],
   "source": [
    "def forward(word_indices):\n",
    "    \"\"\"\n",
    "    :param word_indices: a list of word indices, i.e. idx = vocab[word]\n",
    "    :return: a result dictionary containing 3 items -\n",
    "    result['prob']: output of the CNN algorithm.\n",
    "    result['h']: the hidden layer output after max pooling, h = [h1, ..., hF]\n",
    "    result['hid']: argmax of F filters, e.g. j of x_j\n",
    "    e.g. for the ith filter u_i, tanh(word[hid[i], hid[i] + width]*u_i) = max(h_i)\n",
    "    \"\"\"\n",
    "\n",
    "    h = np.zeros(F, dtype=float)\n",
    "    hid = np.zeros(F, dtype=int)\n",
    "    prob = 0.0\n",
    "\n",
    "    # step 1. compute h and hid\n",
    "    # loop through the input data of word indices and\n",
    "    # keep track of the max filtered value h_i and its position index x_j\n",
    "    # h_i = max(tanh(weighted sum of all words in a given window)) over all windows for u_i\n",
    "    \"\"\"\n",
    "    Type your code below\n",
    "    \"\"\"\n",
    "\n",
    "    # step 2. compute probability\n",
    "    # once h and hid are computed, compute the probabiliy by sigmoid(h^TV)\n",
    "    \"\"\"\n",
    "    Type your code below\n",
    "    \"\"\"\n",
    "\n",
    "    # step 3. return result\n",
    "    return {\"prob\": prob, \"h\": h, \"hid\": hid}"
   ]
  },
  {
   "cell_type": "markdown",
   "metadata": {},
   "source": [
    "## 2. Backward\n",
    "\n",
    "Using the gradient update equations for V (§3 in HW) and U (§3.1), implement the updates for U and V in the backward function."
   ]
  },
  {
   "cell_type": "code",
   "execution_count": null,
   "metadata": {
    "collapsed": true
   },
   "outputs": [],
   "source": [
    "def backward(word_indices, true_label):\n",
    "    \"\"\"\n",
    "    :param word_indices: a list of word indices, i.e. idx = vocab[word]\n",
    "    :param true_label: true label (0, 1) of the movie reviews\n",
    "    :return: None\n",
    "    update weight matrix/vector U and V based on the loss function\n",
    "    \"\"\"\n",
    "    global U, V\n",
    "    pred = forward(word_indices)\n",
    "    prob = pred[\"prob\"]\n",
    "    h = pred[\"h\"]\n",
    "    hid = pred[\"hid\"]\n",
    "\n",
    "    # update U and V here\n",
    "    # loss_function = y * log(o) + (1 - y) * log(1 - o)\n",
    "    #               = true_label * log(prob) + (1 - true_label) * log(1 - prob)\n",
    "    # to update V: V_new = V_current + d(loss_function)/d(V)*alpha\n",
    "    # to update U: U_new = U_current + d(loss_function)/d(U)*alpha\n",
    "    # Make sure you only update the appropriate argmax term for U\n",
    "    \"\"\"\n",
    "    Type your code below\n",
    "    \"\"\""
   ]
  },
  {
   "cell_type": "markdown",
   "metadata": {},
   "source": [
    "## 3. Gradient Checking\n",
    "\n",
    "Now that you have implemented the forward and backward function, you are going to check the correctness of the implementation by calculating numerical gradients and comparing them with the analytical values. Refer to §4 in HW.\n",
    "\n",
    "Implement the functions that calculate numerical gradients for V and U."
   ]
  },
  {
   "cell_type": "code",
   "execution_count": null,
   "metadata": {
    "collapsed": true
   },
   "outputs": [],
   "source": [
    "def calc_numerical_gradients_V(V, word_indices, true_label):\n",
    "    \"\"\"\n",
    "    :param true_label: true label of the data\n",
    "    :param V: weight vector of V\n",
    "    :param word_indices: a list of word indices, i.e. idx = vocab[word]\n",
    "    :return V_grad:\n",
    "    V_grad =    a vector of size length(V) where V_grad[i] is the numerical\n",
    "                gradient approximation of V[i]\n",
    "    \"\"\"\n",
    "    # you might find the following variables useful\n",
    "    x = word_indices\n",
    "    y = true_label\n",
    "    eps = 1e-4\n",
    "    V_grad = np.zeros(F, dtype=float)\n",
    "\n",
    "    \"\"\"\n",
    "    Type your code below\n",
    "    \"\"\"\n",
    "\n",
    "    return V_grad\n",
    "\n",
    "\n",
    "def calc_numerical_gradients_U(U, word_indices, true_label):\n",
    "    \"\"\"\n",
    "    :param U: weight matrix of U\n",
    "    :param word_indices: a list of word indices, i.e. idx = vocab[word]\n",
    "    :param true_label: true label of the data\n",
    "    :return U_grad:\n",
    "    U_grad =    a matrix of dimension F*width where U_grad[i, j] is the numerical\n",
    "                approximation of the gradient for the argmax of\n",
    "                each filter i at offset position j\n",
    "    \"\"\"\n",
    "    # you might find the following variables useful\n",
    "    x = word_indices\n",
    "    y = true_label\n",
    "    eps = 1e-4\n",
    "\n",
    "    pred = forward(x)\n",
    "    prob = pred[\"prob\"]\n",
    "    h = pred[\"h\"]\n",
    "    hid = pred[\"hid\"]\n",
    "    U_grad = np.zeros((F, width))\n",
    "\n",
    "    \"\"\"\n",
    "    Type your code below\n",
    "    \"\"\"\n",
    "\n",
    "    return U_grad"
   ]
  },
  {
   "cell_type": "markdown",
   "metadata": {},
   "source": [
    "Now that we have functions to calculate gradients, implement the check function to compare the numerical gradients with their respective analytical values. Be sure to update the analytical and numerical gradients below using the functions we wrote above."
   ]
  },
  {
   "cell_type": "code",
   "execution_count": null,
   "metadata": {
    "collapsed": true
   },
   "outputs": [],
   "source": [
    "def check_gradient():\n",
    "    \"\"\"\n",
    "    :return (diff in V, diff in U)\n",
    "    Calculate numerical gradient approximations for U, V and\n",
    "    compare them with the analytical values\n",
    "    check gradient accuracy; for more details, cf.\n",
    "    http://ufldl.stanford.edu/wiki/index.php/Gradient_checking_and_advanced_optimization\n",
    "    \"\"\"\n",
    "    x = []\n",
    "    for i in range(100):\n",
    "        x.append(np.random.randint(vocabsize))\n",
    "    y = 1\n",
    "\n",
    "    pred = forward(x)\n",
    "    prob = pred[\"prob\"]\n",
    "    h = pred[\"h\"]\n",
    "    hid = pred[\"hid\"]\n",
    "\n",
    "    \"\"\"\n",
    "    Update 0s below with your calculations\n",
    "    \"\"\"\n",
    "    # check V\n",
    "    # compute analytical and numerical gradients and compare their differences\n",
    "    ana_grad_V = 0.0 # <-- Update\n",
    "    numerical_grad_V = 0.0 # <-- Update\n",
    "    sum_V_diff = sum((numerical_grad_V - ana_grad_V) ** 2)\n",
    "\n",
    "    # check U\n",
    "    # compute analytical and numerical gradients and compare their differences\n",
    "    ana_grad_U = 0.0 # <-- Update\n",
    "    numerical_grad_U = 0.0 # <-- Update\n",
    "    sum_U_diff = sum(sum((numerical_grad_U - ana_grad_U) ** 2))\n",
    "\n",
    "    print(\"V difference: {:.8f}, U difference: {:.8f} (these should be close to 0)\"\n",
    "          .format(sum_V_diff, sum_U_diff))"
   ]
  },
  {
   "cell_type": "markdown",
   "metadata": {},
   "source": [
    "## Result\n",
    "Let's check the difference between the numerical gradients and the analytical gradients using the function completed above. Report the numbers in the writeup."
   ]
  },
  {
   "cell_type": "code",
   "execution_count": null,
   "metadata": {
    "collapsed": true
   },
   "outputs": [],
   "source": [
    "check_gradient()"
   ]
  }
 ],
 "metadata": {
  "kernelspec": {
   "display_name": "nlp",
   "language": "python",
   "name": "nlp"
  },
  "language_info": {
   "codemirror_mode": {
    "name": "ipython",
    "version": 3
   },
   "file_extension": ".py",
   "mimetype": "text/x-python",
   "name": "python",
   "nbconvert_exporter": "python",
   "pygments_lexer": "ipython3",
   "version": "3.6.2"
  }
 },
 "nbformat": 4,
 "nbformat_minor": 2
}
